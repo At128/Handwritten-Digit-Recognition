{
  "nbformat": 4,
  "nbformat_minor": 0,
  "metadata": {
    "colab": {
      "name": "Digit_Recognition.ipynb",
      "provenance": [],
      "toc_visible": true
    },
    "kernelspec": {
      "display_name": "Python 3",
      "language": "python",
      "name": "python3"
    },
    "language_info": {
      "codemirror_mode": {
        "name": "ipython",
        "version": 3
      },
      "file_extension": ".py",
      "mimetype": "text/x-python",
      "name": "python",
      "nbconvert_exporter": "python",
      "pygments_lexer": "ipython3",
      "version": "3.8.5"
    }
  },
  "cells": [
    {
      "cell_type": "code",
      "metadata": {
        "id": "IiZ1SWtOZkjt"
      },
      "source": [
        "import numpy as np\n",
        "import matplotlib.pyplot as plt\n",
        "from tensorflow.keras.datasets import mnist \n",
        "from skimage.transform import resize\n",
        "from keras.utils import to_categorical\n",
        "import pandas as pd"
      ],
      "execution_count": 1,
      "outputs": []
    },
    {
      "cell_type": "code",
      "metadata": {
        "colab": {
          "base_uri": "https://localhost:8080/"
        },
        "id": "6BbD7GMtZkjt",
        "outputId": "e703c8ec-7c52-402d-d49b-d02b8c977005"
      },
      "source": [
        "(X_train, y_train), (X_test, y_test) = mnist.load_data()\n",
        "\n",
        "x_train = X_train.reshape(X_train.shape[0], 28*28)\n",
        "x_train = x_train/float(255)\n",
        "\n",
        "X_test = X_test.reshape(-1, 28*28)\n",
        "X_test = X_test/float(255)\n",
        "Y_test = to_categorical(y_test)\n",
        "\n",
        "print(x_train.shape)\n",
        "print(y_train.shape)\n",
        "print(X_test.shape)\n",
        "print(Y_test.shape)"
      ],
      "execution_count": 2,
      "outputs": [
        {
          "output_type": "stream",
          "text": [
            "(60000, 784)\n",
            "(60000,)\n",
            "(10000, 784)\n",
            "(10000, 10)\n"
          ],
          "name": "stdout"
        }
      ]
    },
    {
      "cell_type": "code",
      "metadata": {
        "id": "q2CBZSN0Zkjv"
      },
      "source": [
        "class digit:\n",
        "    def __init__(self, X, Y, m1, m2, batches, gamma, epochs):\n",
        "        '''\n",
        "        X       : Training input\n",
        "        Y       : Training output\n",
        "        gamma   : Learning rate\n",
        "        epochs  : Training iterations\n",
        "        m1      : Number of nodes in layer 1\n",
        "        m2      : Number of nodes in layer 2\n",
        "\n",
        "        self.N  : Number of datapoints\n",
        "        self.L  : Number of nodes in input layer\n",
        "        self.K  : Number of nodes in output layer\n",
        "        '''\n",
        "        \n",
        "        self.X = X\n",
        "        self.Y = to_categorical(Y)\n",
        "        self.gamma = gamma\n",
        "        self.epochs = epochs\n",
        "        self.m1 = m1\n",
        "        self.m2 = m2\n",
        "        self.batches = batches\n",
        "        \n",
        "        self.N, self.L = X.shape\n",
        "        self.K = self.Y.shape[1]\n",
        "        \n",
        "        print(\"Y shape \", self.Y.shape)\n",
        "        \n",
        "    def sigmoid(self, x):\n",
        "        return (1/(1+np.exp(-1.0*x)))\n",
        "\n",
        "    def sigmoid_prime(self, x):\n",
        "        return self.sigmoid(x)*(1-self.sigmoid(x))\n",
        "    \n",
        "    def mini_batch(self, x, y):\n",
        "        #FeedForward\n",
        "        z1 = np.matmul(x, self.W1) + self.b1.reshape(1,-1)\n",
        "        a1 = self.sigmoid(z1)\n",
        "        z2 = np.matmul(a1, self.W2) + self.b2.reshape(1,-1)\n",
        "        a2 = self.sigmoid(z2)\n",
        "        z3 = np.matmul(a2, self.W3) + self.b3.reshape(1,-1)\n",
        "        a = self.sigmoid(z3)\n",
        "        \n",
        "        #BackPropogation\n",
        "        deltaL = (a - y) * self.sigmoid_prime(z3)\n",
        "        delta2 = np.matmul(deltaL, self.W3.T) * self.sigmoid_prime(z2)\n",
        "        delta1 = np.matmul(delta2, self.W2.T) * self.sigmoid_prime(z1)\n",
        "        \n",
        "        n = x.shape[0]\n",
        "        \n",
        "        self.W3 = self.W3 - (self.gamma*np.matmul(a2.T, deltaL))/float(n)\n",
        "        self.b3 = self.b3 - (self.gamma*np.sum(deltaL, axis = 0).reshape(1,-1))/float(n)\n",
        "        self.W2 = self.W2 - (self.gamma*np.matmul(a1.T, delta2))/float(n)\n",
        "        self.b2 = self.b2 - (self.gamma*np.sum(delta2, axis = 0).reshape(1,-1))/float(n)\n",
        "        self.W1 = self.W1 - (self.gamma*np.matmul(x.T, delta1))/float(n)\n",
        "        self.b1 = self.b1 - (self.gamma*np.sum(delta1, axis = 0).reshape(1,-1))/float(n)\n",
        "        \n",
        "        \n",
        "    def train(self):\n",
        "        #Initialization\n",
        "        self.W1 = np.random.normal(scale = 1.0/self.m1, size = (self.L, self.m1))\n",
        "        self.b1 = np.random.normal(scale = 1.0/self.m1, size = (1,self.m1))\n",
        "        self.W2 = np.random.normal(scale = 1.0/self.m2, size = (self.m1, self.m2))\n",
        "        self.b2 = np.random.normal(scale = 1.0/self.m2, size = (1,self.m2))\n",
        "        self.W3 = np.random.normal(scale = 1.0/self.K, size = (self.m2, self.K))\n",
        "        self.b3 = np.random.normal(scale = 1.0/self.K, size = (1,self.K))\n",
        "        \n",
        "        dataset = np.append(self.X, self.Y, axis = 1)\n",
        "        #print(\"In train\", self.X.shape, self.Y.shape, dataset.shape, self.gamma)\n",
        "        \n",
        "        training_error = []\n",
        "        for epoch in range(self.epochs):\n",
        "            np.random.shuffle(dataset)\n",
        "            \n",
        "            #Making batches\n",
        "            jump = int(self.N/self.batches)\n",
        "            for i in range(0, self.N, jump):\n",
        "                xtr = dataset[i:i+jump, :self.L]\n",
        "                ytr = dataset[i:i+jump, self.L:]\n",
        "                self.mini_batch(xtr, ytr)\n",
        "            \n",
        "            #self.mini_batch(self.X, self.Y)\n",
        "            \n",
        "            e = self.error()\n",
        "            training_error.append((epoch, e))\n",
        "            if(epoch<5 or (epoch%100)==0):\n",
        "                print(\"Epoch = \", epoch, \" Error = \", e)\n",
        "            \n",
        "        print(\"Training error = \", self.error())\n",
        "        return training_error\n",
        "        \n",
        "    def predict(self, x):\n",
        "        #FeedForward\n",
        "        z1 = np.matmul(x, self.W1) + self.b1.reshape(1,-1)\n",
        "        a1 = self.sigmoid(z1)\n",
        "        z2 = np.matmul(a1, self.W2) + self.b2.reshape(1,-1)\n",
        "        a2 = self.sigmoid(z2)\n",
        "        z3 = np.matmul(a2, self.W3) + self.b3.reshape(1,-1)\n",
        "        a = self.sigmoid(z3)\n",
        "        \n",
        "        p = np.argmax(a, axis = 1)\n",
        "        \n",
        "        return a, p\n",
        "    \n",
        "    def error(self):\n",
        "        y_cap, p = self.predict(self.X)\n",
        "        error = np.sqrt(np.sum((y_cap-self.Y)**2, dtype = np.float64)/float(self.N))\n",
        "\n",
        "        return error\n",
        "\n",
        "    def test(self, x, y):\n",
        "        n = y.shape[0]\n",
        "        y_cap, p = self.predict(x)\n",
        "        error = np.sqrt(np.sum((y_cap-y)**2, dtype = np.float64)/float(n))\n",
        "        \n",
        "        return error\n",
        "\n",
        "    def acc(self, x, y):\n",
        "        n = y.shape[0]\n",
        "        y_cap, p = self.predict(x)\n",
        "        d = p - y\n",
        "        a = np.count_nonzero(d)\n",
        "\n",
        "        #print(\"Total Predictions: \", n, \"\\nCorrect Predictions: \", (n-a), \"Incorrect Prediction: \", a)\n",
        "\n",
        "        return ((n-a)/n)"
      ],
      "execution_count": 3,
      "outputs": []
    },
    {
      "cell_type": "markdown",
      "metadata": {
        "id": "rKkC3dqkZwT0"
      },
      "source": [
        "# **Training**"
      ]
    },
    {
      "cell_type": "code",
      "metadata": {
        "colab": {
          "base_uri": "https://localhost:8080/"
        },
        "id": "G8P9xOzu2pxw",
        "outputId": "53a52ca7-ffea-4ab5-a3f9-5e3f57c0445d"
      },
      "source": [
        "m1 = 256\n",
        "m2 = 16\n",
        "batches = 30\n",
        "gamma = 0.8\n",
        "epochs = 1200\n",
        "\n",
        "xt = x_train[:, :]\n",
        "yt = y_train[:]\n",
        "\n",
        "nn = digit(xt, yt, m1, m2, batches, gamma, epochs)\n",
        "tr_set = nn.train()\n",
        "\n",
        "print(\"Testing Error = \", nn.test(X_test, Y_test))"
      ],
      "execution_count": 4,
      "outputs": [
        {
          "output_type": "stream",
          "text": [
            "Y shape  (60000, 10)\n",
            "Epoch =  0  Error =  0.9485048859473171\n",
            "Epoch =  1  Error =  0.9483870719739784\n",
            "Epoch =  2  Error =  0.9483184837500079\n",
            "Epoch =  3  Error =  0.9482511175718729\n",
            "Epoch =  4  Error =  0.9481676300064241\n",
            "Epoch =  100  Error =  0.4517835450435762\n",
            "Epoch =  200  Error =  0.35431662593031443\n",
            "Epoch =  300  Error =  0.3089241061371058\n",
            "Epoch =  400  Error =  0.2750988665460167\n",
            "Epoch =  500  Error =  0.2482572238886742\n",
            "Epoch =  600  Error =  0.22608725862638246\n",
            "Epoch =  700  Error =  0.20759562174256885\n",
            "Epoch =  800  Error =  0.19202763701855688\n",
            "Epoch =  900  Error =  0.1789400878185304\n",
            "Epoch =  1000  Error =  0.16766440158805573\n",
            "Epoch =  1100  Error =  0.15771630428915248\n",
            "Training error =  0.14868029120441806\n",
            "Testing Error =  0.19801123854786712\n"
          ],
          "name": "stdout"
        }
      ]
    },
    {
      "cell_type": "code",
      "metadata": {
        "colab": {
          "base_uri": "https://localhost:8080/"
        },
        "id": "S3gZXUp22p0m",
        "outputId": "2aa19904-55d2-405b-9e72-891e91b1639e"
      },
      "source": [
        "print(\"Accuracy = \", nn.acc(X_test, y_test))"
      ],
      "execution_count": 5,
      "outputs": [
        {
          "output_type": "stream",
          "text": [
            "Accuracy =  0.9771\n"
          ],
          "name": "stdout"
        }
      ]
    },
    {
      "cell_type": "code",
      "metadata": {
        "colab": {
          "base_uri": "https://localhost:8080/",
          "height": 295
        },
        "id": "-D9eThHy2p4w",
        "outputId": "eedbf4a9-050e-4813-b056-bc4a1ebcbd62"
      },
      "source": [
        "x1 = [i for i, j in tr_set]\n",
        "y1 = [j for i, j in tr_set]\n",
        "plt.figure(figsize=((16,4)))\n",
        "plt.plot(x1, y1, label = 'train')\n",
        "plt.xlabel(\"Epochs\")\n",
        "plt.ylabel(\"Error\")\n",
        "plt.title(\"Training error\")\n",
        "\n",
        "plt.show()"
      ],
      "execution_count": 6,
      "outputs": [
        {
          "output_type": "display_data",
          "data": {
            "image/png": "[encoded data removed]",
            "text/plain": [
              "<Figure size 1152x288 with 1 Axes>"
            ]
          },
          "metadata": {
            "tags": [],
            "needs_background": "light"
          }
        }
      ]
    },
    {
      "cell_type": "markdown",
      "metadata": {
        "id": "mdc_L8kMzjhq"
      },
      "source": [
        "# **Prediction**"
      ]
    },
    {
      "cell_type": "code",
      "metadata": {
        "colab": {
          "base_uri": "https://localhost:8080/",
          "height": 282
        },
        "id": "T0lJNEtvbUI-",
        "outputId": "c59e0ef1-301b-48dd-8749-f92cc39d3711"
      },
      "source": [
        "x = X_test[0]\n",
        "y, p = nn.predict(x)\n",
        "x = x.reshape(28,28)\n",
        "plt.imshow(x, cmap = 'gray')\n",
        "plt.show()\n",
        "\n",
        "print(\"Predicted Value = \", p[0])"
      ],
      "execution_count": 7,
      "outputs": [
        {
          "output_type": "display_data",
          "data": {
            "image/png": "[encoded data removed]",
            "text/plain": [
              "<Figure size 432x288 with 1 Axes>"
            ]
          },
          "metadata": {
            "tags": [],
            "needs_background": "light"
          }
        },
        {
          "output_type": "stream",
          "text": [
            "Predicted Value =  7\n"
          ],
          "name": "stdout"
        }
      ]
    },
    {
      "cell_type": "code",
      "metadata": {
        "id": "uMJiNkJdhy2_"
      },
      "source": [
        "  "
      ],
      "execution_count": 7,
      "outputs": []
    },
    {
      "cell_type": "code",
      "metadata": {
        "id": "IGqbldHWEWAI"
      },
      "source": [
        "#Storing\n",
        "\n",
        "df = pd.DataFrame(nn.W1)\n",
        "df.to_csv('W1.csv', index=False)\n",
        "df = pd.DataFrame(nn.b1)\n",
        "df.to_csv('b1.csv', index=False)\n",
        "\n",
        "df = pd.DataFrame(nn.W2)\n",
        "df.to_csv('W2.csv', index=False)\n",
        "df = pd.DataFrame(nn.b2)\n",
        "df.to_csv('b2.csv', index=False)\n",
        "\n",
        "df = pd.DataFrame(nn.W3)\n",
        "df.to_csv('W3.csv', index=False)\n",
        "df = pd.DataFrame(nn.b3)\n",
        "df.to_csv('b3.csv', index=False)"
      ],
      "execution_count": 9,
      "outputs": []
    }
  ]
}